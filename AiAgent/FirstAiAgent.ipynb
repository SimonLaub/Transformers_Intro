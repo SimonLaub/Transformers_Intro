{
 "cells": [
  {
   "cell_type": "code",
   "execution_count": 1,
   "id": "c7366030-2be4-4984-a429-f74c711de142",
   "metadata": {},
   "outputs": [],
   "source": [
    "# Groq experiment\n",
    "# Sila May 20th 2025"
   ]
  },
  {
   "cell_type": "code",
   "execution_count": 2,
   "id": "9ef579de-5a7e-4611-bb16-a4c709beb369",
   "metadata": {},
   "outputs": [],
   "source": [
    "# This Notenbook is inspired by notebook presented by\n",
    "# Philipp Wendland at MLPrague 2025. See Philipp Wendland Github for further details."
   ]
  },
  {
   "cell_type": "code",
   "execution_count": 2,
   "id": "2df77169-aa36-4be5-bdeb-9fc858830b4a",
   "metadata": {},
   "outputs": [],
   "source": [
    "#  pip install llama-index-llms-groq\n",
    "#  pip install llama-index\n",
    "#  pip install langchain_groq"
   ]
  },
  {
   "cell_type": "code",
   "execution_count": 3,
   "id": "fe690b37-9265-4906-809c-c39f9fc41ca8",
   "metadata": {},
   "outputs": [],
   "source": [
    "from llama_index.llms.groq import Groq"
   ]
  },
  {
   "cell_type": "code",
   "execution_count": 4,
   "id": "cd0c5679-c843-42f4-b8c5-a87541f49bb2",
   "metadata": {},
   "outputs": [],
   "source": [
    "#llm = Groq(model=\"mixtral-8x7b-32768\", api_key=\"your_api_key\")\n",
    "llm = Groq(model=\"llama3-8b-8192\", api_key=\"Insert Grok Key here\")"
   ]
  },
  {
   "cell_type": "code",
   "execution_count": 5,
   "id": "c1ac2d3a-8531-4747-9f1e-e20b1b3e7484",
   "metadata": {},
   "outputs": [],
   "source": [
    "response = llm.complete(\"What is the population of Oslo\")"
   ]
  },
  {
   "cell_type": "code",
   "execution_count": 6,
   "id": "a1b97c18-723d-41d8-b3b7-e29575214d20",
   "metadata": {},
   "outputs": [
    {
     "name": "stdout",
     "output_type": "stream",
     "text": [
      "As of 2021, the population of Oslo, the capital and most populous city of Norway, is approximately 673,000 people. The urban area of Oslo has a population of around 1.1 million people, and the metropolitan area has a population of around 1.5 million people.\n",
      "\n",
      "It's worth noting that the population of Oslo is growing, with an annual growth rate of around 1-2%. This is due to a combination of natural population growth and migration to the city.\n",
      "\n",
      "Here is a breakdown of the population of Oslo:\n",
      "\n",
      "* City of Oslo: 673,000\n",
      "* Urban area of Oslo: 1,100,000\n",
      "* Metropolitan area of Oslo: 1,500,000\n",
      "* Greater Oslo region: 2,000,000\n",
      "\n",
      "Source: Statistics Norway (SSB)\n"
     ]
    }
   ],
   "source": [
    "print(response)"
   ]
  },
  {
   "cell_type": "code",
   "execution_count": 7,
   "id": "8c2ab4dc-eaa7-48df-9f20-2990512912e3",
   "metadata": {},
   "outputs": [],
   "source": [
    "city = \"Aarhus\"\n",
    "\n",
    "prompt = \"Act as a professional travel planner. I'm staying in {0} for a conference.\\\n",
    "During the day I will attend seminars and talks, but in the evening I'm mostly free. Plan an itinerary for must-see things\\\n",
    "in {0} for Monday and Tuesday night. I'm interested in both night-life and culture.\".format(city)"
   ]
  },
  {
   "cell_type": "code",
   "execution_count": 8,
   "id": "5173efd8-7809-4f20-9f9a-4af0c6a86bbb",
   "metadata": {},
   "outputs": [
    {
     "name": "stdout",
     "output_type": "stream",
     "text": [
      "Aarhus is a wonderful city! I'd be delighted to help you make the most of your evenings during your conference. Here's a suggested itinerary for Monday and Tuesday nights, combining nightlife and culture:\n",
      "\n",
      "**Monday Night**\n",
      "\n",
      "1. **Dinner**: Start your evening with dinner at Mad & Kultur, a cozy restaurant located in the heart of Aarhus. They offer a mix of traditional Danish cuisine and modern twists. Try their famous open-faced sandwiches or their seasonal menu.\n",
      "2. **Aarhus Harbour**: After dinner, take a short walk to the Aarhus Harbour (Århus Havn). The harbour is a vibrant area with a mix of old and new architecture. You can stroll along the waterfront, admire the boats, and enjoy the lively atmosphere.\n",
      "3. **Nightlife**: Head to the Vester Allé area, known for its bars, clubs, and live music venues. Some popular spots include:\n",
      "\t* **Vester Allé 15**: A popular bar with a wide selection of beers and cocktails.\n",
      "\t* **The Music Hall**: A live music venue hosting local and international acts.\n",
      "\t* **The Jazz Club**: A cozy spot for jazz enthusiasts.\n",
      "4. **End the night**: Finish your evening with a visit to the **Aarhus Harbour's Night Market** (optional). During the summer months, the harbour transforms into a lively night market with food stalls, street performers, and live music.\n",
      "\n",
      "**Tuesday Night**\n",
      "\n",
      "1. **Dinner**: For dinner, head to **Bistro BoBo**, a popular spot for delicious food and a cozy atmosphere. Try their seasonal menu, which often features local and organic ingredients.\n",
      "2. **ARoS Aarhus Art Museum**: Visit the ARoS Aarhus Art Museum, one of the largest art museums in Northern Europe. The museum features a diverse collection of Danish and international art, as well as temporary exhibitions. The museum is open until 8 pm on Tuesdays.\n",
      "3. **Nightlife**: After the museum, head to the **Ingerslevsgade** area, known for its bars, clubs, and live music venues. Some popular spots include:\n",
      "\t* **Ingerslevsgade 30**: A popular bar with a wide selection of beers and cocktails.\n",
      "\t* **The Rock Café**: A live music venue hosting local and international acts.\n",
      "\t* **The Comedy Club**: A spot for stand-up comedy and live performances.\n",
      "4. **End the night**: Finish your evening with a visit to the **Aarhus City Hall** (Århus Rådhus), a beautiful building with a stunning clock tower. Take a stroll around the surrounding streets, which are often lively and vibrant in the evenings.\n",
      "\n",
      "Remember to check the opening hours and schedules for each location to ensure you can fit everything into your evening itinerary. Enjoy your time in Aarhus, and I hope you have a fantastic conference!\n"
     ]
    }
   ],
   "source": [
    "def llm_call_grok(prompt: str) -> str: \n",
    "    \"\"\"\n",
    "        Calls the specified Grok model with the given prompt\n",
    "        Returns: \n",
    "            str: Completion from the LLM\n",
    "    \"\"\"\n",
    "\n",
    "    return llm.complete(prompt)\n",
    "\n",
    "completion = llm_call_grok(prompt)\n",
    "\n",
    "print(completion)"
   ]
  },
  {
   "cell_type": "code",
   "execution_count": 9,
   "id": "1a51672a-a26e-49c7-bd76-45f1ac6bd1ab",
   "metadata": {},
   "outputs": [],
   "source": [
    "# Create a prompt workflow (aka prompt-chain) to break down the task of planning an itinerary into multiple steps. \n",
    "# The sequential_chain method always passes the output of the previous generation between steps. \n",
    "# In the first step add_information is passed."
   ]
  },
  {
   "cell_type": "code",
   "execution_count": 10,
   "id": "9b97ce95-41a9-45d3-a003-00b1f4fe6f8c",
   "metadata": {},
   "outputs": [],
   "source": [
    "def sequential_chain(prompts, input = \"\") -> str:\n",
    "    \"\"\"Create a sequential chain of prompts, where only the result is passed between steps.\"\"\"\n",
    "    completion = input\n",
    "    for i, prompt in enumerate(prompts, 1):\n",
    "        print(\"Step {}:\".format(i))\n",
    "        completion = llm_call_grok(\"{}\\n###\\nGiven information: {}\\n###\\n\".format(prompt, completion))\n",
    "        print(completion)\n",
    "    return completion"
   ]
  },
  {
   "cell_type": "code",
   "execution_count": 11,
   "id": "55c33222-16ae-440b-b344-00bd97b341bb",
   "metadata": {},
   "outputs": [
    {
     "name": "stdout",
     "output_type": "stream",
     "text": [
      "Step 1:\n",
      "Aarhus, a vibrant city with a rich cultural scene! I'd be delighted to help you make the most of your evenings. Here's a list of potential activities that cater to your interests in both nightlife and culture:\n",
      "\n",
      "**Cultural Experiences:**\n",
      "\n",
      "1. **Aarhus Kunstmuseum** (Aarhus Art Museum): Explore the city's largest art museum, featuring a diverse collection of Danish and international art.\n",
      "2. **Den Gamle By** (The Old Town): Visit this open-air museum, which showcases a reconstructed 19th-century town with historic buildings, shops, and restaurants.\n",
      "3. **ARoS Aarhus Art Museum's Rooftop**: Enjoy the stunning views of the city from the rooftop of ARoS, one of the largest art museums in Northern Europe.\n",
      "4. **Aarhus Cathedral** (Domkirken): Take a guided tour of this beautiful Gothic cathedral, which dates back to the 14th century.\n",
      "5. **Street Art Walking Tour**: Discover the city's vibrant street art scene with a guided tour, exploring the works of local and international artists.\n",
      "\n",
      "**Nightlife:**\n",
      "\n",
      "1. **Vester Allé**: This lively street is home to many bars, clubs, and restaurants, making it the perfect spot to explore Aarhus' nightlife.\n",
      "2. **Aarhus Jazz Club**: Catch a live jazz performance at this intimate club, which hosts local and international musicians.\n",
      "3. **Bar 100**: A popular spot for cocktails and live music, with a cozy atmosphere and a great selection of drinks.\n",
      "4. **Kulturhuset Flexa**: This cultural center offers a variety of events, including concerts, theater performances, and exhibitions.\n",
      "5. **Aarhus Pub Crawl**: Join a guided pub crawl and visit some of the city's best bars and clubs, with a knowledgeable guide to show you the way.\n",
      "\n",
      "**Food and Drink:**\n",
      "\n",
      "1. **Food Tours**: Embark on a guided food tour to sample the city's best cuisine, from traditional Danish dishes to modern fusion food.\n",
      "2. **Craft Beer Tasting**: Visit one of Aarhus' many craft breweries, such as Mikkeller or Bryggeriet, for a tasting and tour.\n",
      "3. **Wine and Cheese Night**: Enjoy a wine and cheese pairing evening at a local wine bar or restaurant.\n",
      "4. **Aarhus Market**: Visit the bustling market, where you can find everything from fresh produce to artisanal goods and street food.\n",
      "5. **Dinner at a Michelin-Starred Restaurant**: Treat yourself to a fine dining experience at one of Aarhus' Michelin-starred restaurants, such as Formel B or Restaurant Schønnemann.\n",
      "\n",
      "**Other Ideas:**\n",
      "\n",
      "1. **Take a Sunset Walk**: Enjoy the beautiful views of the city during a sunset walk along the waterfront or in the nearby woods.\n",
      "2. **Visit the Harbor**: Explore the bustling harbor area, where you can find street performers, food stalls, and a lively atmosphere.\n",
      "3. **Attend a Festival or Event**: Check the city's event calendar to see what's happening during your stay, from concerts to festivals and cultural events.\n",
      "\n",
      "I hope this list gives you a good starting point for planning your evenings in Aarhus!\n",
      "Step 2:\n",
      "Here's a suggested itinerary for Monday and Tuesday nights in Aarhus:\n",
      "\n",
      "**Monday Night**\n",
      "\n",
      "* 6:00 PM: Start the evening with a visit to **Aarhus Market**, where you can grab some street food and explore the stalls selling fresh produce, artisanal goods, and souvenirs.\n",
      "* 7:30 PM: Head to **Vester Allé**, a lively street filled with bars, clubs, and restaurants. Stop by **Bar 100** for a cocktail and some live music.\n",
      "* 9:30 PM: Join a **Street Art Walking Tour** to discover the city's vibrant street art scene. The tour will take you to various locations around the city, where you can see works by local and international artists.\n",
      "* 11:30 PM: End the night with a visit to **Aarhus Jazz Club**, where you can catch a live jazz performance and enjoy a relaxed atmosphere.\n",
      "\n",
      "**Tuesday Night**\n",
      "\n",
      "* 6:00 PM: Start the evening with a **Food Tour**, where you'll sample the city's best cuisine, from traditional Danish dishes to modern fusion food.\n",
      "* 8:30 PM: Visit **Den Gamle By** (The Old Town), an open-air museum showcasing a reconstructed 19th-century town with historic buildings, shops, and restaurants. You can grab dinner at one of the on-site restaurants.\n",
      "* 10:30 PM: Head to **Kulturhuset Flexa**, a cultural center that hosts various events, including concerts, theater performances, and exhibitions. Check their schedule to see what's on during your visit.\n",
      "* 12:30 AM: End the night with a visit to **Aarhus Pub Crawl**, a guided tour that will take you to some of the city's best bars and clubs.\n",
      "\n",
      "This itinerary provides a mix of cultural experiences, nightlife, and food and drink activities. Of course, feel free to adjust it to your interests and preferences!\n"
     ]
    },
    {
     "data": {
      "text/plain": [
       "CompletionResponse(text=\"Here's a suggested itinerary for Monday and Tuesday nights in Aarhus:\\n\\n**Monday Night**\\n\\n* 6:00 PM: Start the evening with a visit to **Aarhus Market**, where you can grab some street food and explore the stalls selling fresh produce, artisanal goods, and souvenirs.\\n* 7:30 PM: Head to **Vester Allé**, a lively street filled with bars, clubs, and restaurants. Stop by **Bar 100** for a cocktail and some live music.\\n* 9:30 PM: Join a **Street Art Walking Tour** to discover the city's vibrant street art scene. The tour will take you to various locations around the city, where you can see works by local and international artists.\\n* 11:30 PM: End the night with a visit to **Aarhus Jazz Club**, where you can catch a live jazz performance and enjoy a relaxed atmosphere.\\n\\n**Tuesday Night**\\n\\n* 6:00 PM: Start the evening with a **Food Tour**, where you'll sample the city's best cuisine, from traditional Danish dishes to modern fusion food.\\n* 8:30 PM: Visit **Den Gamle By** (The Old Town), an open-air museum showcasing a reconstructed 19th-century town with historic buildings, shops, and restaurants. You can grab dinner at one of the on-site restaurants.\\n* 10:30 PM: Head to **Kulturhuset Flexa**, a cultural center that hosts various events, including concerts, theater performances, and exhibitions. Check their schedule to see what's on during your visit.\\n* 12:30 AM: End the night with a visit to **Aarhus Pub Crawl**, a guided tour that will take you to some of the city's best bars and clubs.\\n\\nThis itinerary provides a mix of cultural experiences, nightlife, and food and drink activities. Of course, feel free to adjust it to your interests and preferences!\", additional_kwargs={'prompt_tokens': 685, 'completion_tokens': 393, 'total_tokens': 1078}, raw=ChatCompletion(id='chatcmpl-ba6dc970-3e7f-45f3-a311-c3aa5e9e5ebf', choices=[Choice(finish_reason='stop', index=0, logprobs=None, message=ChatCompletionMessage(content=\"Here's a suggested itinerary for Monday and Tuesday nights in Aarhus:\\n\\n**Monday Night**\\n\\n* 6:00 PM: Start the evening with a visit to **Aarhus Market**, where you can grab some street food and explore the stalls selling fresh produce, artisanal goods, and souvenirs.\\n* 7:30 PM: Head to **Vester Allé**, a lively street filled with bars, clubs, and restaurants. Stop by **Bar 100** for a cocktail and some live music.\\n* 9:30 PM: Join a **Street Art Walking Tour** to discover the city's vibrant street art scene. The tour will take you to various locations around the city, where you can see works by local and international artists.\\n* 11:30 PM: End the night with a visit to **Aarhus Jazz Club**, where you can catch a live jazz performance and enjoy a relaxed atmosphere.\\n\\n**Tuesday Night**\\n\\n* 6:00 PM: Start the evening with a **Food Tour**, where you'll sample the city's best cuisine, from traditional Danish dishes to modern fusion food.\\n* 8:30 PM: Visit **Den Gamle By** (The Old Town), an open-air museum showcasing a reconstructed 19th-century town with historic buildings, shops, and restaurants. You can grab dinner at one of the on-site restaurants.\\n* 10:30 PM: Head to **Kulturhuset Flexa**, a cultural center that hosts various events, including concerts, theater performances, and exhibitions. Check their schedule to see what's on during your visit.\\n* 12:30 AM: End the night with a visit to **Aarhus Pub Crawl**, a guided tour that will take you to some of the city's best bars and clubs.\\n\\nThis itinerary provides a mix of cultural experiences, nightlife, and food and drink activities. Of course, feel free to adjust it to your interests and preferences!\", refusal=None, role='assistant', annotations=None, audio=None, function_call=None, tool_calls=None))], created=1747731603, model='llama3-8b-8192', object='chat.completion', service_tier=None, system_fingerprint='fp_dadc9d6142', usage=CompletionUsage(completion_tokens=393, prompt_tokens=685, total_tokens=1078, completion_tokens_details=None, prompt_tokens_details=None, queue_time=0.42243145099999996, prompt_time=0.129416951, completion_time=0.3275, total_time=0.456916951), usage_breakdown={'models': None}, x_groq={'id': 'req_01jvpeqqt1fq8tx9netdf3xdkv'}), logprobs=None, delta=None)"
      ]
     },
     "execution_count": 11,
     "metadata": {},
     "output_type": "execute_result"
    }
   ],
   "source": [
    "create_itinerary_prompts = [\n",
    "    \"\"\"Act as a professional travel planner. I'm staying in {0}.\n",
    "    During the day I will attend seminars and talks, but in the evening I'm mostly free. Create a list of items that\n",
    "    could potentially be interesting. Be creative.\"\"\".format(city),\n",
    "    \n",
    "    \"\"\"Plan an itinerary for must-see things in {0} for Monday and Tuesday night.\"\"\".format(city),\n",
    "]\n",
    "\n",
    "add_information = \"I'm interested in both night-life and culture.\"\n",
    "\n",
    "sequential_chain(create_itinerary_prompts, add_information)"
   ]
  },
  {
   "cell_type": "code",
   "execution_count": 12,
   "id": "a26e770f-d92c-48be-a9aa-6538f9da4f72",
   "metadata": {},
   "outputs": [],
   "source": [
    "# Bonus: Try a different use case: \n",
    "# e.g., create a marketing pitch for the sight-seeing tour and translate it to a different language / tonality."
   ]
  },
  {
   "cell_type": "code",
   "execution_count": 13,
   "id": "f4ae2c04-35db-403c-bec6-a326aca74a38",
   "metadata": {},
   "outputs": [
    {
     "name": "stdout",
     "output_type": "stream",
     "text": [
      "Step 1:\n",
      "Aarhus! Such a wonderful city! As a professional travel planner, I'd be delighted to help you make the most of your evenings while attending your conference. Here's a list of unique and exciting activities to consider:\n",
      "\n",
      "**Cultural Experiences**\n",
      "\n",
      "1. **ARoS Aarhus Art Museum**: Explore the stunning views from the rooftop garden, and enjoy the unique art installations and exhibitions.\n",
      "2. **Den Gamle By** (The Old Town): Step back in time and wander through this charming open-air museum, featuring historic buildings from the 16th to the 20th centuries.\n",
      "3. **Aarhus Cathedral** (Domkirken): Admire the beautiful architecture and stunning stained-glass windows of this 14th-century cathedral.\n",
      "\n",
      "**Food and Drink**\n",
      "\n",
      "1. **Taste the local cuisine**: Try some traditional Danish dishes like smørrebrød (open-faced sandwiches), flæskesteg (roast pork), or frikadeller (meatballs) at one of the many cozy restaurants in the city center.\n",
      "2. **Visit the Aarhus Street Food Market**: Sample a variety of international cuisines, from tacos to sushi, at this bustling market.\n",
      "3. **Take a brewery or winery tour**: Aarhus is home to several craft breweries and wineries, offering tours and tastings.\n",
      "\n",
      "**Outdoor Activities**\n",
      "\n",
      "1. **Take a stroll along the waterfront**: Enjoy the scenic views of the harbor and the Little Belt Bridge, which connects Aarhus to Funen.\n",
      "2. **Visit the Aarhus Botanical Garden**: Explore the beautiful gardens and greenhouses, featuring over 10,000 plant species.\n",
      "3. **Go for a bike ride**: Rent a bike and explore the city's bike-friendly streets, or take a guided bike tour to discover hidden gems.\n",
      "\n",
      "**Unique Experiences**\n",
      "\n",
      "1. **Visit the ARoS Aarhus Art Museum's \"Rain\" installation**: Experience the sensation of walking through a \"rain\" of 16,000 droplets of water while surrounded by art.\n",
      "2. **Take a guided ghost tour**: Explore Aarhus' spooky side and hear tales of its haunted history.\n",
      "3. **Attend a concert or performance**: Check out the Aarhus Symphony Orchestra or the Aarhus Theatre, which often host performances and events.\n",
      "\n",
      "**Relaxation and Wellness**\n",
      "\n",
      "1. **Visit the Aarhus Spa**: Treat yourself to a relaxing massage, sauna, or other spa treatments.\n",
      "2. **Take a yoga or meditation class**: Find inner peace at one of the many yoga studios or meditation centers in the city.\n",
      "3. **Enjoy a relaxing evening at a café**: Unwind with a cup of coffee or tea at one of the cozy cafes in the city center.\n",
      "\n",
      "These are just a few ideas to get you started. Feel free to pick and choose based on your interests, and I'm sure you'll have a wonderful time in Aarhus!\n",
      "Step 2:\n",
      "Based on the provided information, I've planned an itinerary for must-see things in Aarhus for Monday and Tuesday night:\n",
      "\n",
      "**Monday Night**\n",
      "\n",
      "* 6:00 PM: Start the evening with dinner at one of the cozy restaurants in the city center, trying some traditional Danish dishes like smørrebrød or flæskesteg.\n",
      "* 7:30 PM: Visit the ARoS Aarhus Art Museum and explore the stunning views from the rooftop garden. Be sure to check out the unique art installations and exhibitions.\n",
      "* 9:00 PM: Take a short walk to the Aarhus Street Food Market and sample some international cuisines, from tacos to sushi.\n",
      "* 10:30 PM: End the night with a relaxing evening at a café, enjoying a cup of coffee or tea and unwinding after a busy day.\n",
      "\n",
      "**Tuesday Night**\n",
      "\n",
      "* 6:00 PM: Begin the evening with a visit to the Aarhus Cathedral (Domkirken) and admire the beautiful architecture and stunning stained-glass windows.\n",
      "* 7:30 PM: Take a stroll along the waterfront and enjoy the scenic views of the harbor and the Little Belt Bridge.\n",
      "* 8:30 PM: Visit the ARoS Aarhus Art Museum's \"Rain\" installation and experience the sensation of walking through a \"rain\" of 16,000 droplets of water while surrounded by art.\n",
      "* 10:00 PM: End the night with a concert or performance at the Aarhus Symphony Orchestra or the Aarhus Theatre, if there are any events scheduled.\n",
      "\n",
      "This itinerary provides a mix of cultural experiences, food and drink, outdoor activities, and relaxation, giving you a taste of what Aarhus has to offer. Feel free to adjust it based on your interests and preferences!\n",
      "Step 3:\n",
      "Here's a quick marketing advertisement text for the itinerary:\n",
      "\n",
      "**Experience the Best of Aarhus: A Folk Dancer's Paradise!**\n",
      "\n",
      "Join us for a unique and unforgettable experience in Aarhus, Denmark! Our carefully curated itinerary is designed specifically for folk dancers like you, offering a mix of cultural experiences, delicious food and drink, outdoor activities, and relaxation.\n",
      "\n",
      "**Monday Night:**\n",
      "\n",
      "* Savor traditional Danish cuisine at a cozy restaurant in the city center\n",
      "* Explore the stunning views and art installations at ARoS Aarhus Art Museum\n",
      "* Indulge in international flavors at the Aarhus Street Food Market\n",
      "* Unwind with a relaxing evening at a café\n",
      "\n",
      "**Tuesday Night:**\n",
      "\n",
      "* Admire the beautiful architecture and stained-glass windows at Aarhus Cathedral\n",
      "* Take a scenic stroll along the waterfront and enjoy the harbor views\n",
      "* Experience the \"Rain\" installation at ARoS Aarhus Art Museum\n",
      "* Enjoy a concert or performance at the Aarhus Symphony Orchestra or Aarhus Theatre\n",
      "\n",
      "This itinerary is tailored to give you a taste of what Aarhus has to offer, and we encourage you to adjust it based on your interests and preferences. Don't miss out on this opportunity to experience the best of Aarhus! Book your spot now and get ready for an unforgettable adventure!\n",
      "Step 4:\n",
      "**Shiver Me Timbers! Experience the Best o' Aarhus: A Folk Dancer's Treasure Trove!**\n",
      "\n",
      "Hoist the sails and set course for Aarhus, Denmark, me hearties! Our swashbucklin' itinerary be designed specifically for folk dancers like yerself, offerin' a mix o' cultural booty, tasty grub and grog, outdoor adventures, and relaxation fit fer a pirate king!\n",
      "\n",
      "**Monday Night:**\n",
      "\n",
      "* Savor the scurvy-fightin' flavors o' traditional Danish cuisine at a cozy tavern in the city center\n",
      "* Explore the booty-ful views and art installations at ARoS Aarhus Art Museum, me hearties!\n",
      "* Indulge in international flavors at the Aarhus Street Food Market, where ye can find treasures from the seven seas\n",
      "* Unwind with a relaxing evening at a café, where ye can swap tales o' yer adventures\n",
      "\n",
      "**Tuesday Night:**\n",
      "\n",
      "* Admire the grand architecture and stained-glass windows at Aarhus Cathedral, a true treasure o' the city\n",
      "* Take a scenic stroll along the waterfront and enjoy the harbor views, me hearties!\n",
      "* Experience the \"Rain\" installation at ARoS Aarhus Art Museum, a true marvel o' the seven seas\n",
      "* Enjoy a concert or performance at the Aarhus Symphony Orchestra or Aarhus Theatre, where ye can discover new treasures\n",
      "\n",
      "This itinerary be tailored to give ye a taste o' what Aarhus has to offer, and we encourage ye to adjust it based on yer interests and preferences, me hearties! Don't miss out on this opportunity to experience the best o' Aarhus! Book yer spot now and get ready fer an unforgettable adventure, savvy?\n",
      "**Shiver Me Timbers! Experience the Best o' Aarhus: A Folk Dancer's Treasure Trove!**\n",
      "\n",
      "Hoist the sails and set course for Aarhus, Denmark, me hearties! Our swashbucklin' itinerary be designed specifically for folk dancers like yerself, offerin' a mix o' cultural booty, tasty grub and grog, outdoor adventures, and relaxation fit fer a pirate king!\n",
      "\n",
      "**Monday Night:**\n",
      "\n",
      "* Savor the scurvy-fightin' flavors o' traditional Danish cuisine at a cozy tavern in the city center\n",
      "* Explore the booty-ful views and art installations at ARoS Aarhus Art Museum, me hearties!\n",
      "* Indulge in international flavors at the Aarhus Street Food Market, where ye can find treasures from the seven seas\n",
      "* Unwind with a relaxing evening at a café, where ye can swap tales o' yer adventures\n",
      "\n",
      "**Tuesday Night:**\n",
      "\n",
      "* Admire the grand architecture and stained-glass windows at Aarhus Cathedral, a true treasure o' the city\n",
      "* Take a scenic stroll along the waterfront and enjoy the harbor views, me hearties!\n",
      "* Experience the \"Rain\" installation at ARoS Aarhus Art Museum, a true marvel o' the seven seas\n",
      "* Enjoy a concert or performance at the Aarhus Symphony Orchestra or Aarhus Theatre, where ye can discover new treasures\n",
      "\n",
      "This itinerary be tailored to give ye a taste o' what Aarhus has to offer, and we encourage ye to adjust it based on yer interests and preferences, me hearties! Don't miss out on this opportunity to experience the best o' Aarhus! Book yer spot now and get ready fer an unforgettable adventure, savvy?\n"
     ]
    }
   ],
   "source": [
    "marketing_pitch_prompts = [\n",
    "    # START SOLUTION\n",
    "    \"\"\"Act as a professional travel planner. I'm staying in {0} for a conference.\n",
    "    During the day I will attend seminars and talks, but in the evening I'm mostly free. Create a list of items that\n",
    "    could potentially be interesting. Be creative\"\"\".format(city),\n",
    "    \n",
    "    \"\"\"Plan an itinerary for must-see things in {0} for Monday and Tuesday night. \"\"\".format(city),\n",
    "\n",
    "    \"\"\"Act as a professional marketing agency. Create a quick marketing advertisement text for the itnerary.\n",
    "    Your target audience are Folk dancers.\"\"\",\n",
    "\n",
    "    \"\"\"Rewrite the given text in pirate speech. Stay as close to the original as possible\"\"\"\n",
    "    # END SOLUTION\n",
    "]\n",
    "\n",
    "print(sequential_chain(marketing_pitch_prompts))"
   ]
  },
  {
   "cell_type": "code",
   "execution_count": 22,
   "id": "3a706a17-909d-41d8-90f1-b398e5cfdd4c",
   "metadata": {},
   "outputs": [],
   "source": [
    "# For additional documentation refer to:\n",
    "# open-meteo docs: https://open-meteo.com/en/docs\n",
    "import requests\n",
    "import json\n",
    "\n",
    "def get_current_weather(latitude=50.073658, longitude=14.418540):\n",
    "    try: \n",
    "        response = requests.get(f\"https://api.open-meteo.com/v1/forecast?latitude={latitude}&longitude={longitude}&current=temperature_2m,cloud_cover,precipitation&hourly=temperature_2m,precipitation_probability,cloud_cover\")\n",
    "    except: \n",
    "        return \"Weather data not available\"\n",
    "    response_data = response.json()\n",
    "    return {\n",
    "        \"current_temp\": response_data['current']['temperature_2m'],\n",
    "        \"cloud_cover\": response_data['current']['cloud_cover'],\n",
    "        \"precipitation\": response_data['current']['precipitation']\n",
    "    }"
   ]
  },
  {
   "cell_type": "code",
   "execution_count": 23,
   "id": "28512d6f-3312-4f23-a317-569ba3af7c0c",
   "metadata": {},
   "outputs": [
    {
     "name": "stdout",
     "output_type": "stream",
     "text": [
      "{'current_temp': 19.9, 'cloud_cover': 0, 'precipitation': 0.0}\n"
     ]
    }
   ],
   "source": [
    "current_weather = get_current_weather(latitude=56.09, longitude=10.12)\n",
    "\n",
    "print(current_weather)"
   ]
  },
  {
   "cell_type": "code",
   "execution_count": 29,
   "id": "56eb505f-c4af-44fc-af09-c7a799a9c3a1",
   "metadata": {},
   "outputs": [],
   "source": [
    "def get_current_weather_city(city):\n",
    "    return get_current_weather(latitude=56.09, longitude=10.12)"
   ]
  },
  {
   "cell_type": "code",
   "execution_count": 31,
   "id": "1970a782-e293-49f4-808f-b99cfe1f987b",
   "metadata": {},
   "outputs": [],
   "source": [
    "aarhus_weather =  get_current_weather_city(\"Aarhus\")"
   ]
  },
  {
   "cell_type": "code",
   "execution_count": 32,
   "id": "d8264471-0c6a-4c38-b3b0-fa9c7424489b",
   "metadata": {},
   "outputs": [
    {
     "name": "stdout",
     "output_type": "stream",
     "text": [
      "{'current_temp': 20.2, 'cloud_cover': 0, 'precipitation': 0.0}\n"
     ]
    }
   ],
   "source": [
    "print(aarhus_weather)"
   ]
  },
  {
   "cell_type": "code",
   "execution_count": 36,
   "id": "4b29daa7-6e40-4531-be96-b69cf46ca6ec",
   "metadata": {},
   "outputs": [],
   "source": [
    "create_itinerary_prompts_with_tools = [\n",
    "    aarhus_weather,\n",
    "    \n",
    "    \"\"\"Act as a professional travel planner. I'm staying in {0} for a conference.\n",
    "    During the day I will attend seminars and talks, but in the evening I'm mostly free. Create a list of items that\n",
    "    could potentially be interesting. Be creative\"\"\".format(city),\n",
    "\n",
    "    \"\"\"Plan an itinerary for must-see things in {0} for Monday and Tuesday night.\"\"\".format(city)\n",
    "]"
   ]
  },
  {
   "cell_type": "code",
   "execution_count": 38,
   "id": "1fbca07f-df18-49a2-85dc-4c4eeae98d1e",
   "metadata": {},
   "outputs": [
    {
     "name": "stdout",
     "output_type": "stream",
     "text": [
      "[{'current_temp': 20.2, 'cloud_cover': 0, 'precipitation': 0.0}, \"Act as a professional travel planner. I'm staying in Aarhus for a conference.\\n    During the day I will attend seminars and talks, but in the evening I'm mostly free. Create a list of items that\\n    could potentially be interesting. Be creative\", 'Plan an itinerary for must-see things in Aarhus for Monday and Tuesday night.']\n"
     ]
    }
   ],
   "source": [
    "print(create_itinerary_prompts_with_tools)"
   ]
  },
  {
   "cell_type": "code",
   "execution_count": 39,
   "id": "9dd30062-c4c6-4604-a3ba-f4688e0d2e12",
   "metadata": {},
   "outputs": [
    {
     "name": "stdout",
     "output_type": "stream",
     "text": [
      "Step 1:\n",
      "A lovely day! With a current temperature of 20.2°C and no cloud cover, it's a perfect day to be outside. And the best part? No precipitation in sight! No rain to ruin your plans. You can enjoy the sunshine and fresh air without worrying about getting wet.\n",
      "Step 2:\n",
      "What a lovely day in Aarhus! I've curated a list of exciting activities for you to enjoy in the evening, taking advantage of the perfect weather. Since you're mostly free, why not make the most of it?\n",
      "\n",
      "**Outdoor Delights**\n",
      "\n",
      "1. **Aarhus Harbour Walk**: Take a leisurely stroll along the picturesque Aarhus Harbour, enjoying the scenic views of the water and the city skyline. You might even spot some boats or ships docked at the harbour.\n",
      "2. **Den Permanente**: Visit this iconic, modernist building, which now houses a café, restaurant, and art space. Take in the stunning views of the harbour from its rooftop garden.\n",
      "3. **Aarhus Botanical Garden**: Escape the hustle and bustle of the city and unwind in the beautiful botanical garden, featuring over 10,000 plant species. The perfect spot to relax and recharge.\n",
      "\n",
      "**Cultural Experiences**\n",
      "\n",
      "1. **ARoS Aarhus Art Museum**: Spend the evening exploring the ARoS museum, which features an impressive collection of Danish and international art. Be sure to check out the unique \"Rain\" installation on the 5th floor.\n",
      "2. **Aarhus Theatre**: Catch a performance at this historic theatre, which hosts a variety of productions, from classical plays to contemporary dance and music.\n",
      "3. **Moesgaard Museum**: Visit this world-class museum, which showcases Danish and international art, design, and cultural history. The museum's beautiful gardens and outdoor spaces are also worth exploring.\n",
      "\n",
      "**Food and Drink**\n",
      "\n",
      "1. **Aarhus Street Food**: Indulge in the city's vibrant street food scene by visiting the Aarhus Street Food market, where you can sample a variety of international cuisines.\n",
      "2. **Café & Restaurant**: Treat yourself to a delicious dinner at one of Aarhus' many excellent restaurants, such as Café & Restaurant, which serves up tasty Danish cuisine.\n",
      "3. **Aarhus Beer Festival**: If you're interested in craft beer, head to the Aarhus Beer Festival, which takes place in the evening and features a selection of local and international brews.\n",
      "\n",
      "**Other Ideas**\n",
      "\n",
      "1. **Take a Bike Ride**: Rent a bike and explore Aarhus' scenic bike paths, which offer a unique perspective on the city.\n",
      "2. **Visit the Old Town**: Wander through the charming Old Town, with its cobblestone streets, historic buildings, and quaint shops.\n",
      "3. **Go on a Sunset Cruise**: If you're interested in a more relaxing evening, take a sunset cruise around the Aarhus Harbour and enjoy the city's skyline from a different perspective.\n",
      "\n",
      "I hope you find something that piques your interest! Enjoy your evening in Aarhus.\n",
      "Step 3:\n",
      "Here's a suggested itinerary for Monday and Tuesday night in Aarhus:\n",
      "\n",
      "**Monday Night**\n",
      "\n",
      "* 6:00 PM: Start the evening with a leisurely stroll along the Aarhus Harbour Walk, taking in the scenic views of the water and the city skyline.\n",
      "* 7:30 PM: Visit Den Permanente, an iconic modernist building with a rooftop garden offering stunning views of the harbour. Grab a coffee or snack at the café and enjoy the views.\n",
      "* 9:00 PM: Head to ARoS Aarhus Art Museum to explore the impressive collection of Danish and international art. Be sure to check out the unique \"Rain\" installation on the 5th floor.\n",
      "* 11:30 PM: End the night with a visit to Aarhus Street Food, where you can sample a variety of international cuisines.\n",
      "\n",
      "**Tuesday Night**\n",
      "\n",
      "* 6:00 PM: Start the evening with a visit to the Aarhus Botanical Garden, where you can unwind and relax among the beautiful plants and gardens.\n",
      "* 8:00 PM: Catch a performance at Aarhus Theatre, which hosts a variety of productions, from classical plays to contemporary dance and music.\n",
      "* 10:30 PM: Head to Café & Restaurant for a delicious dinner of Danish cuisine.\n",
      "* 12:30 AM: If you're interested in craft beer, head to the Aarhus Beer Festival, which takes place in the evening and features a selection of local and international brews.\n",
      "\n",
      "Of course, feel free to adjust the itinerary to fit your interests and preferences! Enjoy your evening in Aarhus.\n"
     ]
    },
    {
     "data": {
      "text/plain": [
       "CompletionResponse(text='Here\\'s a suggested itinerary for Monday and Tuesday night in Aarhus:\\n\\n**Monday Night**\\n\\n* 6:00 PM: Start the evening with a leisurely stroll along the Aarhus Harbour Walk, taking in the scenic views of the water and the city skyline.\\n* 7:30 PM: Visit Den Permanente, an iconic modernist building with a rooftop garden offering stunning views of the harbour. Grab a coffee or snack at the café and enjoy the views.\\n* 9:00 PM: Head to ARoS Aarhus Art Museum to explore the impressive collection of Danish and international art. Be sure to check out the unique \"Rain\" installation on the 5th floor.\\n* 11:30 PM: End the night with a visit to Aarhus Street Food, where you can sample a variety of international cuisines.\\n\\n**Tuesday Night**\\n\\n* 6:00 PM: Start the evening with a visit to the Aarhus Botanical Garden, where you can unwind and relax among the beautiful plants and gardens.\\n* 8:00 PM: Catch a performance at Aarhus Theatre, which hosts a variety of productions, from classical plays to contemporary dance and music.\\n* 10:30 PM: Head to Café & Restaurant for a delicious dinner of Danish cuisine.\\n* 12:30 AM: If you\\'re interested in craft beer, head to the Aarhus Beer Festival, which takes place in the evening and features a selection of local and international brews.\\n\\nOf course, feel free to adjust the itinerary to fit your interests and preferences! Enjoy your evening in Aarhus.', additional_kwargs={'prompt_tokens': 579, 'completion_tokens': 322, 'total_tokens': 901}, raw=ChatCompletion(id='chatcmpl-daac6029-3781-4503-8b34-0b31052e76bf', choices=[Choice(finish_reason='stop', index=0, logprobs=None, message=ChatCompletionMessage(content='Here\\'s a suggested itinerary for Monday and Tuesday night in Aarhus:\\n\\n**Monday Night**\\n\\n* 6:00 PM: Start the evening with a leisurely stroll along the Aarhus Harbour Walk, taking in the scenic views of the water and the city skyline.\\n* 7:30 PM: Visit Den Permanente, an iconic modernist building with a rooftop garden offering stunning views of the harbour. Grab a coffee or snack at the café and enjoy the views.\\n* 9:00 PM: Head to ARoS Aarhus Art Museum to explore the impressive collection of Danish and international art. Be sure to check out the unique \"Rain\" installation on the 5th floor.\\n* 11:30 PM: End the night with a visit to Aarhus Street Food, where you can sample a variety of international cuisines.\\n\\n**Tuesday Night**\\n\\n* 6:00 PM: Start the evening with a visit to the Aarhus Botanical Garden, where you can unwind and relax among the beautiful plants and gardens.\\n* 8:00 PM: Catch a performance at Aarhus Theatre, which hosts a variety of productions, from classical plays to contemporary dance and music.\\n* 10:30 PM: Head to Café & Restaurant for a delicious dinner of Danish cuisine.\\n* 12:30 AM: If you\\'re interested in craft beer, head to the Aarhus Beer Festival, which takes place in the evening and features a selection of local and international brews.\\n\\nOf course, feel free to adjust the itinerary to fit your interests and preferences! Enjoy your evening in Aarhus.', refusal=None, role='assistant', annotations=None, audio=None, function_call=None, tool_calls=None))], created=1747733476, model='llama3-8b-8192', object='chat.completion', service_tier=None, system_fingerprint='fp_dadc9d6142', usage=CompletionUsage(completion_tokens=322, prompt_tokens=579, total_tokens=901, completion_tokens_details=None, prompt_tokens_details=None, queue_time=0.163241365, prompt_time=0.108097095, completion_time=0.268333333, total_time=0.376430428), usage_breakdown={'models': None}, x_groq={'id': 'req_01jvpggwhceqds5ccpm3mkwb5t'}), logprobs=None, delta=None)"
      ]
     },
     "execution_count": 39,
     "metadata": {},
     "output_type": "execute_result"
    }
   ],
   "source": [
    "add_information = \"I hate rain\"\n",
    "\n",
    "sequential_chain(create_itinerary_prompts_with_tools, add_information)"
   ]
  },
  {
   "cell_type": "code",
   "execution_count": null,
   "id": "38b98e79-7a98-4b85-a62d-4534ed57c4de",
   "metadata": {},
   "outputs": [],
   "source": []
  }
 ],
 "metadata": {
  "kernelspec": {
   "display_name": "Python 3 (ipykernel)",
   "language": "python",
   "name": "python3"
  },
  "language_info": {
   "codemirror_mode": {
    "name": "ipython",
    "version": 3
   },
   "file_extension": ".py",
   "mimetype": "text/x-python",
   "name": "python",
   "nbconvert_exporter": "python",
   "pygments_lexer": "ipython3",
   "version": "3.9.13"
  }
 },
 "nbformat": 4,
 "nbformat_minor": 5
}
